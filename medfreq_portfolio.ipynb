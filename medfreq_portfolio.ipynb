{
  "nbformat": 4,
  "nbformat_minor": 0,
  "metadata": {
    "colab": {
      "provenance": [],
      "authorship_tag": "ABX9TyNQwovCK+K0Kqk7YtTxj1N/",
      "include_colab_link": true
    },
    "kernelspec": {
      "name": "python3",
      "display_name": "Python 3"
    },
    "language_info": {
      "name": "python"
    }
  },
  "cells": [
    {
      "cell_type": "markdown",
      "metadata": {
        "id": "view-in-github",
        "colab_type": "text"
      },
      "source": [
        "<a href=\"https://colab.research.google.com/github/msri200/Medium-Frequency-Trading-Portfolio/blob/main/medfreq_portfolio.ipynb\" target=\"_parent\"><img src=\"https://colab.research.google.com/assets/colab-badge.svg\" alt=\"Open In Colab\"/></a>"
      ]
    },
    {
      "cell_type": "code",
      "source": [
        "pip install quandl -q"
      ],
      "metadata": {
        "id": "WcLS3oZ4C51M"
      },
      "execution_count": null,
      "outputs": []
    },
    {
      "cell_type": "code",
      "execution_count": null,
      "metadata": {
        "id": "LSe_TNExCmez"
      },
      "outputs": [],
      "source": [
        "import pandas as pd\n",
        "import numpy as np\n",
        "import matplotlib.pyplot as plt\n",
        "import seaborn as sns\n",
        "import quandl\n",
        "%matplotlib inline"
      ]
    },
    {
      "cell_type": "code",
      "source": [
        "#import quandl\n",
        "\n",
        "#quandl.ApiConfig.api_key = \"HWQp1f4j8r5CNxWWv2M3\""
      ],
      "metadata": {
        "id": "hE_lRzBxKVRn"
      },
      "execution_count": null,
      "outputs": []
    },
    {
      "cell_type": "code",
      "source": [
        "import yfinance as yf\n",
        "\n",
        "zn = yf.download(\"ZN=F\", start=\"1985-01-01\", end=\"2020-10-01\")\n",
        "zf = yf.download(\"ZF=F\", start=\"1985-01-01\", end=\"2020-10-01\")"
      ],
      "metadata": {
        "colab": {
          "base_uri": "https://localhost:8080/"
        },
        "id": "78AyzjBFKXGV",
        "outputId": "8e642948-489f-42b8-8acd-c2dc766d7b55"
      },
      "execution_count": null,
      "outputs": [
        {
          "output_type": "stream",
          "name": "stderr",
          "text": [
            "/tmp/ipython-input-484264592.py:3: FutureWarning: YF.download() has changed argument auto_adjust default to True\n",
            "  zn = yf.download(\"ZN=F\", start=\"1985-01-01\", end=\"2020-10-01\")\n",
            "[*********************100%***********************]  1 of 1 completed\n",
            "/tmp/ipython-input-484264592.py:4: FutureWarning: YF.download() has changed argument auto_adjust default to True\n",
            "  zf = yf.download(\"ZF=F\", start=\"1985-01-01\", end=\"2020-10-01\")\n",
            "[*********************100%***********************]  1 of 1 completed\n"
          ]
        }
      ]
    },
    {
      "cell_type": "code",
      "source": [
        "print(zn.head())\n",
        "print(zf.head())"
      ],
      "metadata": {
        "colab": {
          "base_uri": "https://localhost:8080/"
        },
        "id": "WH506nlJKRn2",
        "outputId": "902d29f4-d171-4775-98d5-d40413d8d81a"
      },
      "execution_count": null,
      "outputs": [
        {
          "output_type": "stream",
          "name": "stdout",
          "text": [
            "Price            Close        High         Low        Open Volume\n",
            "Ticker            ZN=F        ZN=F        ZN=F        ZN=F   ZN=F\n",
            "Date                                                             \n",
            "2000-09-21   99.953133   99.953133   99.625000   99.656250  41462\n",
            "2000-09-22   99.828133   99.875000   99.828133   99.859383  35044\n",
            "2000-09-25   99.937500   99.968750   99.937500   99.937500  35198\n",
            "2000-09-26  100.187500  100.234398  100.140602  100.171898  52999\n",
            "2000-09-27  100.125000  100.140602  100.093803  100.109398  39859\n",
            "Price            Close        High         Low        Open Volume\n",
            "Ticker            ZF=F        ZF=F        ZF=F        ZF=F   ZF=F\n",
            "Date                                                             \n",
            "2000-09-21  100.421898  100.468803  100.171898  100.187500  10742\n",
            "2000-09-22  100.281303  100.328102  100.281303  100.296898   6092\n",
            "2000-09-25  100.296898  100.328102  100.296898  100.296898   6359\n",
            "2000-09-26  100.484398  100.500000  100.421898  100.437500   8689\n",
            "2000-09-27  100.468803  100.484398  100.453102  100.468803  12359\n"
          ]
        }
      ]
    },
    {
      "cell_type": "code",
      "source": [
        "# Flatten and lower-case to basically turn this from multi-dimensional to 1D array\n",
        "zf.columns = [c[0].lower() for c in zf.columns]\n",
        "zn.columns = [c[0].lower() for c in zn.columns]"
      ],
      "metadata": {
        "id": "PeIkYzuufzNb"
      },
      "execution_count": null,
      "outputs": []
    },
    {
      "cell_type": "code",
      "source": [
        "zf.info() #quick summary of non-null values\n",
        "zf.isna().sum() #Nan count per column\n",
        "zn.info()\n",
        "zn.isna().sum()"
      ],
      "metadata": {
        "colab": {
          "base_uri": "https://localhost:8080/",
          "height": 657
        },
        "id": "snWvXSykfBh7",
        "outputId": "8c8e3121-5690-4596-a313-6a902fd19d4a"
      },
      "execution_count": null,
      "outputs": [
        {
          "output_type": "stream",
          "name": "stdout",
          "text": [
            "<class 'pandas.core.frame.DataFrame'>\n",
            "DatetimeIndex: 5038 entries, 2000-09-21 to 2020-09-30\n",
            "Data columns (total 5 columns):\n",
            " #   Column  Non-Null Count  Dtype  \n",
            "---  ------  --------------  -----  \n",
            " 0   close   5038 non-null   float64\n",
            " 1   high    5038 non-null   float64\n",
            " 2   low     5038 non-null   float64\n",
            " 3   open    5038 non-null   float64\n",
            " 4   volume  5038 non-null   int64  \n",
            "dtypes: float64(4), int64(1)\n",
            "memory usage: 236.2 KB\n",
            "<class 'pandas.core.frame.DataFrame'>\n",
            "DatetimeIndex: 5026 entries, 2000-09-21 to 2020-09-30\n",
            "Data columns (total 5 columns):\n",
            " #   Column  Non-Null Count  Dtype  \n",
            "---  ------  --------------  -----  \n",
            " 0   close   5026 non-null   float64\n",
            " 1   high    5026 non-null   float64\n",
            " 2   low     5026 non-null   float64\n",
            " 3   open    5026 non-null   float64\n",
            " 4   volume  5026 non-null   int64  \n",
            "dtypes: float64(4), int64(1)\n",
            "memory usage: 235.6 KB\n"
          ]
        },
        {
          "output_type": "execute_result",
          "data": {
            "text/plain": [
              "close     0\n",
              "high      0\n",
              "low       0\n",
              "open      0\n",
              "volume    0\n",
              "dtype: int64"
            ],
            "text/html": [
              "<div>\n",
              "<style scoped>\n",
              "    .dataframe tbody tr th:only-of-type {\n",
              "        vertical-align: middle;\n",
              "    }\n",
              "\n",
              "    .dataframe tbody tr th {\n",
              "        vertical-align: top;\n",
              "    }\n",
              "\n",
              "    .dataframe thead th {\n",
              "        text-align: right;\n",
              "    }\n",
              "</style>\n",
              "<table border=\"1\" class=\"dataframe\">\n",
              "  <thead>\n",
              "    <tr style=\"text-align: right;\">\n",
              "      <th></th>\n",
              "      <th>0</th>\n",
              "    </tr>\n",
              "  </thead>\n",
              "  <tbody>\n",
              "    <tr>\n",
              "      <th>close</th>\n",
              "      <td>0</td>\n",
              "    </tr>\n",
              "    <tr>\n",
              "      <th>high</th>\n",
              "      <td>0</td>\n",
              "    </tr>\n",
              "    <tr>\n",
              "      <th>low</th>\n",
              "      <td>0</td>\n",
              "    </tr>\n",
              "    <tr>\n",
              "      <th>open</th>\n",
              "      <td>0</td>\n",
              "    </tr>\n",
              "    <tr>\n",
              "      <th>volume</th>\n",
              "      <td>0</td>\n",
              "    </tr>\n",
              "  </tbody>\n",
              "</table>\n",
              "</div><br><label><b>dtype:</b> int64</label>"
            ]
          },
          "metadata": {},
          "execution_count": 7
        }
      ]
    },
    {
      "cell_type": "code",
      "source": [
        "zf = zf.rename(columns={\n",
        "    'o':'open',\n",
        "    'c':'close',\n",
        "    'h':'high',\n",
        "    'l':'low',\n",
        "    'v':'volume',\n",
        "})[['open','close','high','low','volume']]\n",
        "\n",
        "zn = zn.rename(columns={\n",
        "    'o':'open',\n",
        "    'c':'close',\n",
        "    'h':'high',\n",
        "    'l':'low',\n",
        "    'v':'volume',\n",
        "})[['open','close','high','low','volume']]"
      ],
      "metadata": {
        "id": "5PpMvJXWNbmk"
      },
      "execution_count": null,
      "outputs": []
    },
    {
      "cell_type": "code",
      "source": [
        "zfcopy = zf.copy()\n",
        "zncopy = zn.copy()"
      ],
      "metadata": {
        "id": "pG8cyAi9iGlK"
      },
      "execution_count": null,
      "outputs": []
    },
    {
      "cell_type": "code",
      "source": [
        "zfcopy = zfcopy.assign(midprice = zfcopy['open'] + zfcopy['close'])/2\n",
        "zncopy = zncopy.assign(midprice = zncopy['open'] + zncopy['close'])/2"
      ],
      "metadata": {
        "id": "-52mC-sdjmwK"
      },
      "execution_count": null,
      "outputs": []
    },
    {
      "cell_type": "code",
      "source": [
        "print(zncopy.head())\n",
        "print(zfcopy.head())"
      ],
      "metadata": {
        "colab": {
          "base_uri": "https://localhost:8080/"
        },
        "id": "2GzQXOCjkQyO",
        "outputId": "f30ae53c-f1e9-4d27-d18d-05365e5b76eb"
      },
      "execution_count": null,
      "outputs": [
        {
          "output_type": "stream",
          "name": "stdout",
          "text": [
            "                 open      close       high        low   volume    midprice\n",
            "Date                                                                       \n",
            "2000-09-21  49.828125  49.976566  49.976566  49.812500  20731.0   99.804691\n",
            "2000-09-22  49.929691  49.914066  49.937500  49.914066  17522.0   99.843758\n",
            "2000-09-25  49.968750  49.968750  49.984375  49.968750  17599.0   99.937500\n",
            "2000-09-26  50.085949  50.093750  50.117199  50.070301  26499.5  100.179699\n",
            "2000-09-27  50.054699  50.062500  50.070301  50.046902  19929.5  100.117199\n",
            "                 open      close       high        low  volume    midprice\n",
            "Date                                                                      \n",
            "2000-09-21  50.093750  50.210949  50.234402  50.085949  5371.0  100.304699\n",
            "2000-09-22  50.148449  50.140652  50.164051  50.140652  3046.0  100.289101\n",
            "2000-09-25  50.148449  50.148449  50.164051  50.148449  3179.5  100.296898\n",
            "2000-09-26  50.218750  50.242199  50.250000  50.210949  4344.5  100.460949\n",
            "2000-09-27  50.234402  50.234402  50.242199  50.226551  6179.5  100.468803\n"
          ]
        }
      ]
    },
    {
      "cell_type": "code",
      "source": [
        "pip install rateslib"
      ],
      "metadata": {
        "colab": {
          "base_uri": "https://localhost:8080/"
        },
        "id": "-pGiJJJYkymI",
        "outputId": "db1f0555-fc9c-4503-a52f-c7060e950721"
      },
      "execution_count": null,
      "outputs": [
        {
          "output_type": "stream",
          "name": "stdout",
          "text": [
            "Collecting rateslib\n",
            "  Downloading rateslib-2.1.1.tar.gz (738 kB)\n",
            "\u001b[2K     \u001b[90m━━━━━━━━━━━━━━━━━━━━━━━━━━━━━━━━━━━━━━━\u001b[0m \u001b[32m739.0/739.0 kB\u001b[0m \u001b[31m6.0 MB/s\u001b[0m eta \u001b[36m0:00:00\u001b[0m\n",
            "\u001b[?25h  Installing build dependencies ... \u001b[?25l\u001b[?25hdone\n",
            "  Getting requirements to build wheel ... \u001b[?25l\u001b[?25hdone\n",
            "  Installing backend dependencies ... \u001b[?25l\u001b[?25hdone\n",
            "  Preparing metadata (pyproject.toml) ... \u001b[?25l\u001b[?25hdone\n",
            "Requirement already satisfied: numpy<3.0,>=1.21.5 in /usr/local/lib/python3.12/dist-packages (from rateslib) (2.0.2)\n",
            "Requirement already satisfied: matplotlib<4.0,>=3.5.1 in /usr/local/lib/python3.12/dist-packages (from rateslib) (3.10.0)\n",
            "Requirement already satisfied: pandas<3.0,>=1.4.1 in /usr/local/lib/python3.12/dist-packages (from rateslib) (2.2.2)\n",
            "Requirement already satisfied: contourpy>=1.0.1 in /usr/local/lib/python3.12/dist-packages (from matplotlib<4.0,>=3.5.1->rateslib) (1.3.3)\n",
            "Requirement already satisfied: cycler>=0.10 in /usr/local/lib/python3.12/dist-packages (from matplotlib<4.0,>=3.5.1->rateslib) (0.12.1)\n",
            "Requirement already satisfied: fonttools>=4.22.0 in /usr/local/lib/python3.12/dist-packages (from matplotlib<4.0,>=3.5.1->rateslib) (4.60.0)\n",
            "Requirement already satisfied: kiwisolver>=1.3.1 in /usr/local/lib/python3.12/dist-packages (from matplotlib<4.0,>=3.5.1->rateslib) (1.4.9)\n",
            "Requirement already satisfied: packaging>=20.0 in /usr/local/lib/python3.12/dist-packages (from matplotlib<4.0,>=3.5.1->rateslib) (25.0)\n",
            "Requirement already satisfied: pillow>=8 in /usr/local/lib/python3.12/dist-packages (from matplotlib<4.0,>=3.5.1->rateslib) (11.3.0)\n",
            "Requirement already satisfied: pyparsing>=2.3.1 in /usr/local/lib/python3.12/dist-packages (from matplotlib<4.0,>=3.5.1->rateslib) (3.2.4)\n",
            "Requirement already satisfied: python-dateutil>=2.7 in /usr/local/lib/python3.12/dist-packages (from matplotlib<4.0,>=3.5.1->rateslib) (2.9.0.post0)\n",
            "Requirement already satisfied: pytz>=2020.1 in /usr/local/lib/python3.12/dist-packages (from pandas<3.0,>=1.4.1->rateslib) (2025.2)\n",
            "Requirement already satisfied: tzdata>=2022.7 in /usr/local/lib/python3.12/dist-packages (from pandas<3.0,>=1.4.1->rateslib) (2025.2)\n",
            "Requirement already satisfied: six>=1.5 in /usr/local/lib/python3.12/dist-packages (from python-dateutil>=2.7->matplotlib<4.0,>=3.5.1->rateslib) (1.17.0)\n",
            "Building wheels for collected packages: rateslib\n",
            "  Building wheel for rateslib (pyproject.toml) ... \u001b[?25l\u001b[?25hdone\n",
            "  Created wheel for rateslib: filename=rateslib-2.1.1-cp310-abi3-linux_x86_64.whl size=1790039 sha256=ce163304c2ac2abc32c9e899dd9512480b461c727de874aa21b307733734d0c6\n",
            "  Stored in directory: /root/.cache/pip/wheels/2d/68/9b/0b0fa29aa8215201ffe9cac962ae3522027ed6a99b9dd9de3a\n",
            "Successfully built rateslib\n",
            "Installing collected packages: rateslib\n",
            "Successfully installed rateslib-2.1.1\n"
          ]
        }
      ]
    },
    {
      "cell_type": "code",
      "source": [
        "from sklearn.ensemble import RandomForestClassifier\n",
        "from sklearn.model_selection import train_test_split\n",
        "from sklearn.metrics import accuracy_score, precision_score, recall_score, f1_score\n",
        "from sklearn.metrics import confusion_matrix\n",
        "from sklearn.impute import SimpleImputer"
      ],
      "metadata": {
        "id": "4priyok8vXLS"
      },
      "execution_count": null,
      "outputs": []
    },
    {
      "cell_type": "code",
      "source": [
        "#we split the data firstly into train and test where test contains validation as well\n",
        "#then we split test and validation\n",
        "zf_train, zf_temp = train_test_split(zfcopy, test_size=0.2,train_size= 0.8, shuffle=False)\n",
        "zn_train, zn_temp = train_test_split(zncopy, test_size=0.2, train_size= 0.8, shuffle=False)\n",
        "zf_validation, zf_test = train_test_split(zf_temp, test_size=0.5, shuffle=False)\n",
        "zn_validation, zn_test = train_test_split(zn_temp,test_size = 0.5,shuffle= False )\n",
        "#we DO NOT do a k-fold validation as we are only interested in how a\n",
        "#historical model performs on new data"
      ],
      "metadata": {
        "id": "ENOBSh79A8zq"
      },
      "execution_count": null,
      "outputs": []
    },
    {
      "cell_type": "code",
      "source": [
        "#calculate our raw features\n",
        "zncopy['Weekly_SMA'] = zncopy['midprice'].rolling(window=7).mean()\n",
        "zncopy['Biweekly_SMA'] = zncopy['midprice'].rolling(window=14).mean()\n",
        "zfcopy['Weekly_SMA'] = zfcopy['midprice'].rolling(window=7).mean()\n",
        "zfcopy['Biweekly_SMA'] = zfcopy['midprice'].rolling(window=14).mean()\n",
        "zfcopy['Daily_Trend_Weekly_MA']= zfcopy['midprice'] - zfcopy['Weekly_SMA']\n",
        "zncopy['Daily_Trend_Weekly_MA']= zncopy['midprice'] - zncopy['Weekly_SMA']\n",
        "zfcopy['Daily_Trend_Biweekly_MA']= zfcopy['midprice'] - zfcopy['Biweekly_SMA']\n",
        "zncopy['Daily_Trend_Biweekly_MA']= zncopy['midprice'] - zncopy['Biweekly_SMA']\n",
        "\n",
        "print(zncopy.head(20))\n",
        "print(zfcopy.head(20))"
      ],
      "metadata": {
        "colab": {
          "base_uri": "https://localhost:8080/"
        },
        "id": "fU4OhnmNDwDt",
        "outputId": "58f751ed-e104-416e-9206-5c6c21fa9acb"
      },
      "execution_count": null,
      "outputs": [
        {
          "output_type": "stream",
          "name": "stdout",
          "text": [
            "                 open      close       high        low   volume    midprice  \\\n",
            "Date                                                                          \n",
            "2000-09-21  49.828125  49.976566  49.976566  49.812500  20731.0   99.804691   \n",
            "2000-09-22  49.929691  49.914066  49.937500  49.914066  17522.0   99.843758   \n",
            "2000-09-25  49.968750  49.968750  49.984375  49.968750  17599.0   99.937500   \n",
            "2000-09-26  50.085949  50.093750  50.117199  50.070301  26499.5  100.179699   \n",
            "2000-09-27  50.054699  50.062500  50.070301  50.046902  19929.5  100.117199   \n",
            "2000-09-28  50.070301  50.101551  50.109402  50.046902  19035.5  100.171852   \n",
            "2000-09-29  50.132801  50.109402  50.132801  50.101551  11549.5  100.242203   \n",
            "2000-10-02  50.093750  50.101551  50.101551  50.085949  15387.5  100.195301   \n",
            "2000-10-03  49.968750  49.968750  50.031250  49.953125  20870.5   99.937500   \n",
            "2000-10-04  49.875000  49.898441  49.898441  49.875000  19361.5   99.773441   \n",
            "2000-10-05  49.992191  50.007801  50.007801  49.984375  23103.5   99.999992   \n",
            "2000-10-06  50.257801  50.226551  50.265652  50.210949  23103.5  100.484352   \n",
            "2000-10-09  50.257801  50.117199  50.265652  50.210949  18915.0  100.375000   \n",
            "2000-10-10  50.218750  50.281250  50.289051  50.195301  35246.0  100.500000   \n",
            "2000-10-11  50.320301  50.296902  50.335949  50.289051  31509.5  100.617203   \n",
            "2000-10-12  50.265652  50.507801  50.578152  50.195301  15999.0  100.773453   \n",
            "2000-10-13  50.500000  50.453152  50.601551  50.390652  15738.0  100.953152   \n",
            "2000-10-16  50.390652  50.421902  50.460949  50.328152  25726.0  100.812553   \n",
            "2000-10-17  50.429699  50.625000  50.664051  50.359402  33292.0  101.054699   \n",
            "2000-10-18  50.671902  50.625000  51.031250  50.554699  23250.0  101.296902   \n",
            "\n",
            "            Weekly_SMA  Biweekly_SMA  Daily_Trend_Weekly_MA  \\\n",
            "Date                                                          \n",
            "2000-09-21         NaN           NaN                    NaN   \n",
            "2000-09-22         NaN           NaN                    NaN   \n",
            "2000-09-25         NaN           NaN                    NaN   \n",
            "2000-09-26         NaN           NaN                    NaN   \n",
            "2000-09-27         NaN           NaN                    NaN   \n",
            "2000-09-28         NaN           NaN                    NaN   \n",
            "2000-09-29  100.042415           NaN               0.199788   \n",
            "2000-10-02  100.098216           NaN               0.097085   \n",
            "2000-10-03  100.111608           NaN              -0.174108   \n",
            "2000-10-04  100.088171           NaN              -0.314729   \n",
            "2000-10-05  100.062498           NaN              -0.062506   \n",
            "2000-10-06  100.114949           NaN               0.369403   \n",
            "2000-10-09  100.143970           NaN               0.231030   \n",
            "2000-10-10  100.180798    100.111606               0.319202   \n",
            "2000-10-11  100.241070    100.169643               0.376133   \n",
            "2000-10-12  100.360492    100.236050               0.412961   \n",
            "2000-10-13  100.529022    100.308596               0.424130   \n",
            "2000-10-16  100.645102    100.353800               0.167452   \n",
            "2000-10-17  100.726580    100.420764               0.328119   \n",
            "2000-10-18  100.858280    100.501125               0.438622   \n",
            "\n",
            "            Daily_Trend_Biweekly_MA  \n",
            "Date                                 \n",
            "2000-09-21                      NaN  \n",
            "2000-09-22                      NaN  \n",
            "2000-09-25                      NaN  \n",
            "2000-09-26                      NaN  \n",
            "2000-09-27                      NaN  \n",
            "2000-09-28                      NaN  \n",
            "2000-09-29                      NaN  \n",
            "2000-10-02                      NaN  \n",
            "2000-10-03                      NaN  \n",
            "2000-10-04                      NaN  \n",
            "2000-10-05                      NaN  \n",
            "2000-10-06                      NaN  \n",
            "2000-10-09                      NaN  \n",
            "2000-10-10                 0.388394  \n",
            "2000-10-11                 0.447560  \n",
            "2000-10-12                 0.537403  \n",
            "2000-10-13                 0.644556  \n",
            "2000-10-16                 0.458753  \n",
            "2000-10-17                 0.633935  \n",
            "2000-10-18                 0.795777  \n",
            "                 open      close       high        low   volume    midprice  \\\n",
            "Date                                                                          \n",
            "2000-09-21  50.093750  50.210949  50.234402  50.085949   5371.0  100.304699   \n",
            "2000-09-22  50.148449  50.140652  50.164051  50.140652   3046.0  100.289101   \n",
            "2000-09-25  50.148449  50.148449  50.164051  50.148449   3179.5  100.296898   \n",
            "2000-09-26  50.218750  50.242199  50.250000  50.210949   4344.5  100.460949   \n",
            "2000-09-27  50.234402  50.234402  50.242199  50.226551   6179.5  100.468803   \n",
            "2000-09-28  50.218750  50.242199  50.250000  50.203152   4023.5  100.460949   \n",
            "2000-09-29  50.304699  50.296902  50.304699  50.265652   1851.0  100.601601   \n",
            "2000-10-02  50.296902  50.304699  50.304699  50.289051   5230.5  100.601601   \n",
            "2000-10-03  50.234402  50.226551  50.273449  50.218750   3526.5  100.460953   \n",
            "2000-10-04  50.148449  50.164051  50.164051  50.148449   2321.5  100.312500   \n",
            "2000-10-05  50.210949  50.218750  50.226551  50.210949   5887.5  100.429699   \n",
            "2000-10-06  50.335949  50.304699  50.343750  50.304699   5887.5  100.640648   \n",
            "2000-10-09  50.335949  50.242199  50.343750  50.304699   6247.0  100.578148   \n",
            "2000-10-10  50.289051  50.328152  50.351551  50.273449  10909.5  100.617203   \n",
            "2000-10-11  50.375000  50.351551  50.382801  50.343750   6990.0  100.726551   \n",
            "2000-10-12  50.320301  50.562500  50.562500  50.273449   7312.0  100.882801   \n",
            "2000-10-13  50.546902  50.500000  50.632801  50.468750   5464.5  101.046902   \n",
            "2000-10-16  50.492199  50.460949  50.500000  50.390652   9737.5  100.953148   \n",
            "2000-10-17  50.445301  50.578152  50.632801  50.406250   7571.5  101.023453   \n",
            "2000-10-18  50.593750  50.593750  50.882801  50.546902   8306.0  101.187500   \n",
            "\n",
            "            Weekly_SMA  Biweekly_SMA  Daily_Trend_Weekly_MA  \\\n",
            "Date                                                          \n",
            "2000-09-21         NaN           NaN                    NaN   \n",
            "2000-09-22         NaN           NaN                    NaN   \n",
            "2000-09-25         NaN           NaN                    NaN   \n",
            "2000-09-26         NaN           NaN                    NaN   \n",
            "2000-09-27         NaN           NaN                    NaN   \n",
            "2000-09-28         NaN           NaN                    NaN   \n",
            "2000-09-29  100.411857           NaN               0.189744   \n",
            "2000-10-02  100.454272           NaN               0.147329   \n",
            "2000-10-03  100.478822           NaN              -0.017869   \n",
            "2000-10-04  100.481051           NaN              -0.168551   \n",
            "2000-10-05  100.476586           NaN              -0.046888   \n",
            "2000-10-06  100.501136           NaN               0.139512   \n",
            "2000-10-09  100.517878           NaN               0.060269   \n",
            "2000-10-10  100.520107    100.465982               0.097095   \n",
            "2000-10-11  100.537957    100.496114               0.188594   \n",
            "2000-10-12  100.598221    100.538522               0.284580   \n",
            "2000-10-13  100.703136    100.592093               0.343766   \n",
            "2000-10-16  100.777914    100.627250               0.175234   \n",
            "2000-10-17  100.832601    100.666868               0.190852   \n",
            "2000-10-18  100.919651    100.718765               0.267849   \n",
            "\n",
            "            Daily_Trend_Biweekly_MA  \n",
            "Date                                 \n",
            "2000-09-21                      NaN  \n",
            "2000-09-22                      NaN  \n",
            "2000-09-25                      NaN  \n",
            "2000-09-26                      NaN  \n",
            "2000-09-27                      NaN  \n",
            "2000-09-28                      NaN  \n",
            "2000-09-29                      NaN  \n",
            "2000-10-02                      NaN  \n",
            "2000-10-03                      NaN  \n",
            "2000-10-04                      NaN  \n",
            "2000-10-05                      NaN  \n",
            "2000-10-06                      NaN  \n",
            "2000-10-09                      NaN  \n",
            "2000-10-10                 0.151221  \n",
            "2000-10-11                 0.230437  \n",
            "2000-10-12                 0.344279  \n",
            "2000-10-13                 0.454808  \n",
            "2000-10-16                 0.325897  \n",
            "2000-10-17                 0.356585  \n",
            "2000-10-18                 0.468735  \n"
          ]
        }
      ]
    },
    {
      "cell_type": "code",
      "source": [
        "# remove rows with ANY NaN in either dataframe\n",
        "zncopy = zncopy.dropna().copy()\n",
        "zfcopy = zfcopy.dropna().copy()\n",
        "print(zncopy.head(20))\n",
        "print(zfcopy.head(20))"
      ],
      "metadata": {
        "colab": {
          "base_uri": "https://localhost:8080/"
        },
        "id": "bMQ25BOuFMnR",
        "outputId": "5b7757b9-7e16-4dbd-82b4-090b6d72ac06"
      },
      "execution_count": null,
      "outputs": [
        {
          "output_type": "stream",
          "name": "stdout",
          "text": [
            "                 open      close       high        low   volume    midprice  \\\n",
            "Date                                                                          \n",
            "2000-10-10  50.218750  50.281250  50.289051  50.195301  35246.0  100.500000   \n",
            "2000-10-11  50.320301  50.296902  50.335949  50.289051  31509.5  100.617203   \n",
            "2000-10-12  50.265652  50.507801  50.578152  50.195301  15999.0  100.773453   \n",
            "2000-10-13  50.500000  50.453152  50.601551  50.390652  15738.0  100.953152   \n",
            "2000-10-16  50.390652  50.421902  50.460949  50.328152  25726.0  100.812553   \n",
            "2000-10-17  50.429699  50.625000  50.664051  50.359402  33292.0  101.054699   \n",
            "2000-10-18  50.671902  50.625000  51.031250  50.554699  23250.0  101.296902   \n",
            "2000-10-19  50.609402  50.687500  50.781250  50.500000  13649.0  101.296902   \n",
            "2000-10-20  50.648449  50.773449  50.812500  50.632801  19822.5  101.421898   \n",
            "2000-10-23  50.781250  50.929699  50.953152  50.773449  21856.5  101.710949   \n",
            "2000-10-24  50.914051  50.828152  50.945301  50.695301  32175.0  101.742203   \n",
            "2000-10-25  50.843750  50.648449  50.945301  50.593750  34459.5  101.492199   \n",
            "2000-10-26  50.648449  50.632801  50.820301  50.554699  19350.5  101.281250   \n",
            "2000-10-27  50.625000  50.500000  50.718750  50.445301  14901.0  101.125000   \n",
            "2000-10-30  50.468750  50.453152  50.625000  50.414051  20421.5  100.921902   \n",
            "2000-10-31  50.468750  50.351551  50.593750  50.335949  19485.0  100.820301   \n",
            "2000-11-01  50.367199  50.437500  50.468750  50.351551  18948.5  100.804699   \n",
            "2000-11-02  50.421902  50.500000  50.515652  50.421902  23186.5  100.921902   \n",
            "2000-11-03  50.500000  50.195301  50.562500  50.179699  23448.5  100.695301   \n",
            "2000-11-06  50.179699  50.070301  50.250000  50.023449  22959.5  100.250000   \n",
            "\n",
            "            Weekly_SMA  Biweekly_SMA  Daily_Trend_Weekly_MA  \\\n",
            "Date                                                          \n",
            "2000-10-10  100.180798    100.111606               0.319202   \n",
            "2000-10-11  100.241070    100.169643               0.376133   \n",
            "2000-10-12  100.360492    100.236050               0.412961   \n",
            "2000-10-13  100.529022    100.308596               0.424130   \n",
            "2000-10-16  100.645102    100.353800               0.167452   \n",
            "2000-10-17  100.726580    100.420764               0.328119   \n",
            "2000-10-18  100.858280    100.501125               0.438622   \n",
            "2000-10-19  100.972123    100.576461               0.324778   \n",
            "2000-10-20  101.087080    100.664075               0.334818   \n",
            "2000-10-23  101.221008    100.790750               0.489941   \n",
            "2000-10-24  101.333729    100.931376               0.408473   \n",
            "2000-10-25  101.430822    101.037962               0.061377   \n",
            "2000-10-26  101.463186    101.094883              -0.181936   \n",
            "2000-10-27  101.438629    101.148454              -0.313629   \n",
            "2000-10-30  101.385057    101.178590              -0.463155   \n",
            "2000-10-31  101.299115    101.193097              -0.478814   \n",
            "2000-11-01  101.169650    101.195329              -0.364952   \n",
            "2000-11-02  101.052465    101.193097              -0.130563   \n",
            "2000-11-03  100.938622    101.184722              -0.243321   \n",
            "2000-11-06  100.791301    101.127243              -0.541301   \n",
            "\n",
            "            Daily_Trend_Biweekly_MA  \n",
            "Date                                 \n",
            "2000-10-10                 0.388394  \n",
            "2000-10-11                 0.447560  \n",
            "2000-10-12                 0.537403  \n",
            "2000-10-13                 0.644556  \n",
            "2000-10-16                 0.458753  \n",
            "2000-10-17                 0.633935  \n",
            "2000-10-18                 0.795777  \n",
            "2000-10-19                 0.720441  \n",
            "2000-10-20                 0.757823  \n",
            "2000-10-23                 0.920199  \n",
            "2000-10-24                 0.810827  \n",
            "2000-10-25                 0.454237  \n",
            "2000-10-26                 0.186367  \n",
            "2000-10-27                -0.023454  \n",
            "2000-10-30                -0.256689  \n",
            "2000-10-31                -0.372796  \n",
            "2000-11-01                -0.390630  \n",
            "2000-11-02                -0.271195  \n",
            "2000-11-03                -0.489421  \n",
            "2000-11-06                -0.877243  \n",
            "                 open      close       high        low   volume    midprice  \\\n",
            "Date                                                                          \n",
            "2000-10-10  50.289051  50.328152  50.351551  50.273449  10909.5  100.617203   \n",
            "2000-10-11  50.375000  50.351551  50.382801  50.343750   6990.0  100.726551   \n",
            "2000-10-12  50.320301  50.562500  50.562500  50.273449   7312.0  100.882801   \n",
            "2000-10-13  50.546902  50.500000  50.632801  50.468750   5464.5  101.046902   \n",
            "2000-10-16  50.492199  50.460949  50.500000  50.390652   9737.5  100.953148   \n",
            "2000-10-17  50.445301  50.578152  50.632801  50.406250   7571.5  101.023453   \n",
            "2000-10-18  50.593750  50.593750  50.882801  50.546902   8306.0  101.187500   \n",
            "2000-10-19  50.578152  50.601551  50.679699  50.492199   5557.5  101.179703   \n",
            "2000-10-20  50.578152  50.640652  50.656250  50.562500   3935.5  101.218803   \n",
            "2000-10-23  50.640652  50.695301  50.710949  50.617199   7037.5  101.335953   \n",
            "2000-10-24  50.695301  50.625000  50.703152  50.546902   8609.5  101.320301   \n",
            "2000-10-25  50.656250  50.507801  50.718750  50.484402   6468.5  101.164051   \n",
            "2000-10-26  50.507801  50.484402  50.585949  50.460949   5390.5  100.992203   \n",
            "2000-10-27  50.460949  50.406250  50.523449  50.382801   2399.0  100.867199   \n",
            "2000-10-30  50.398449  50.351551  50.468750  50.351551   3602.5  100.750000   \n",
            "2000-10-31  50.367199  50.359402  50.437500  50.312500   5016.0  100.726601   \n",
            "2000-11-01  50.367199  50.414051  50.429699  50.367199   5237.5  100.781250   \n",
            "2000-11-02  50.414051  50.437500  50.500000  50.414051   3464.5  100.851551   \n",
            "2000-11-03  50.437500  50.250000  50.476551  50.250000   5021.0  100.687500   \n",
            "2000-11-06  50.250000  50.171902  50.289051  50.140652   6722.0  100.421902   \n",
            "\n",
            "            Weekly_SMA  Biweekly_SMA  Daily_Trend_Weekly_MA  \\\n",
            "Date                                                          \n",
            "2000-10-10  100.520107    100.465982               0.097095   \n",
            "2000-10-11  100.537957    100.496114               0.188594   \n",
            "2000-10-12  100.598221    100.538522               0.284580   \n",
            "2000-10-13  100.703136    100.592093               0.343766   \n",
            "2000-10-16  100.777914    100.627250               0.175234   \n",
            "2000-10-17  100.832601    100.666868               0.190852   \n",
            "2000-10-18  100.919651    100.718765               0.267849   \n",
            "2000-10-19  101.000008    100.760058               0.179695   \n",
            "2000-10-20  101.070330    100.804144               0.148473   \n",
            "2000-10-23  101.135066    100.866644               0.200887   \n",
            "2000-10-24  101.174123    100.938629               0.146178   \n",
            "2000-10-25  101.204252    100.991083              -0.040201   \n",
            "2000-10-26  101.199788    101.016194              -0.207585   \n",
            "2000-10-27  101.154030    101.036841              -0.286831   \n",
            "2000-10-30  101.092644    101.046326              -0.342644   \n",
            "2000-10-31  101.022330    101.046330              -0.295729   \n",
            "2000-11-01  100.943086    101.039076              -0.161836   \n",
            "2000-11-02  100.876122    101.025123              -0.024571   \n",
            "2000-11-03  100.808043    101.006148              -0.120543   \n",
            "2000-11-06  100.726572    100.963180              -0.304670   \n",
            "\n",
            "            Daily_Trend_Biweekly_MA  \n",
            "Date                                 \n",
            "2000-10-10                 0.151221  \n",
            "2000-10-11                 0.230437  \n",
            "2000-10-12                 0.344279  \n",
            "2000-10-13                 0.454808  \n",
            "2000-10-16                 0.325897  \n",
            "2000-10-17                 0.356585  \n",
            "2000-10-18                 0.468735  \n",
            "2000-10-19                 0.419645  \n",
            "2000-10-20                 0.414660  \n",
            "2000-10-23                 0.469309  \n",
            "2000-10-24                 0.381672  \n",
            "2000-10-25                 0.172968  \n",
            "2000-10-26                -0.023991  \n",
            "2000-10-27                -0.169642  \n",
            "2000-10-30                -0.296326  \n",
            "2000-10-31                -0.319729  \n",
            "2000-11-01                -0.257826  \n",
            "2000-11-02                -0.173571  \n",
            "2000-11-03                -0.318648  \n",
            "2000-11-06                -0.541278  \n"
          ]
        }
      ]
    },
    {
      "cell_type": "code",
      "source": [
        "#A. PORTFOLIO CONSTRUCTION\n",
        "from sklearn.preprocessing import MinMaxScaler      # or StandardScaler\n",
        "from sklearn.decomposition import PCA\n",
        "\n",
        "#Build aligned 2-col DataFrames (dates must match)\n",
        "train_df = pd.concat([zf_train['midprice'], zn_train['midprice']], axis=1, join='inner')\n",
        "train_df.columns = ['zf_mid', 'zn_mid']\n",
        "\n",
        "val_df   = pd.concat([zf_validation['midprice'], zn_validation['midprice']], axis=1, join='inner')\n",
        "val_df.columns = ['zf_mid', 'zn_mid']\n",
        "\n",
        "test_df  = pd.concat([zf_test['midprice'], zn_test['midprice']], axis=1, join='inner')\n",
        "test_df.columns = ['zf_mid', 'zn_mid']\n",
        "\n",
        "#Fit scaler on TRAIN only (preserves relative scale)\n",
        "scaler = MinMaxScaler()\n",
        "train_scaled = scaler.fit_transform(train_df)   # shape (n_train, 2)\n",
        "val_scaled   = scaler.transform(val_df)        # do NOT fit again\n",
        "test_scaled  = scaler.transform(test_df)\n",
        "\n",
        "# Debug check\n",
        "print(\"train_scaled.shape:\", train_scaled.shape)\n",
        "print(\"val_scaled.shape:\", val_scaled.shape)\n",
        "\n",
        "# Fit PCA on TRAIN only; use 2 components so we have PC2 available\n",
        "pca = PCA(n_components=2)\n",
        "pca.fit(train_scaled)\n",
        "\n",
        "# Debug check\n",
        "print(\"pca.components_.shape:\", pca.components_.shape)  # should be (2, 2)\n",
        "\n",
        "#Get PC scores (projections). Use transform() — clean and correct.\n",
        "train_scores = pca.transform(train_scaled)   # shape (n_train, 2)\n",
        "val_scores   = pca.transform(val_scaled)\n",
        "test_scores  = pca.transform(test_scaled)\n",
        "\n",
        "# PC2 is the second column (index 1)\n",
        "train_portfolio = pd.Series(train_scores[:, 1], index=train_df.index, name='train_portfolio_price')\n",
        "val_portfolio   = pd.Series(val_scores[:, 1],   index=val_df.index, name='val_portfolio_price')\n",
        "test_portfolio  = pd.Series(test_scores[:, 1],  index=test_df.index, name='test_portfolio_price')\n",
        "\n",
        "# Quick sanity prints\n",
        "print(train_portfolio.head())\n",
        "print(val_portfolio.head())\n",
        "print(test_portfolio.head())\n"
      ],
      "metadata": {
        "colab": {
          "base_uri": "https://localhost:8080/"
        },
        "id": "Ju81NvPIJTgf",
        "outputId": "f05a76cf-c28d-4e60-f1e1-92a516c15b12"
      },
      "execution_count": null,
      "outputs": [
        {
          "output_type": "stream",
          "name": "stdout",
          "text": [
            "train_scaled.shape: (4019, 2)\n",
            "val_scaled.shape: (502, 2)\n",
            "pca.components_.shape: (2, 2)\n",
            "Date\n",
            "2000-09-21    0.019097\n",
            "2000-09-22    0.020329\n",
            "2000-09-25    0.022019\n",
            "2000-09-26    0.022357\n",
            "2000-09-27    0.020865\n",
            "Name: train_portfolio_price, dtype: float64\n",
            "Date\n",
            "2016-09-28    0.065026\n",
            "2016-09-29    0.065146\n",
            "2016-09-30    0.062780\n",
            "2016-10-03    0.064073\n",
            "2016-10-04    0.062126\n",
            "Name: val_portfolio_price, dtype: float64\n",
            "Date\n",
            "2018-10-02    0.063493\n",
            "2018-10-03    0.062142\n",
            "2018-10-04    0.059082\n",
            "2018-10-05    0.057532\n",
            "2018-10-08    0.055584\n",
            "Name: test_portfolio_price, dtype: float64\n"
          ]
        }
      ]
    },
    {
      "cell_type": "code",
      "source": [
        "    pip install scikit-learn"
      ],
      "metadata": {
        "colab": {
          "base_uri": "https://localhost:8080/"
        },
        "id": "w3BgGAaNJwqI",
        "outputId": "576a1423-b294-41e1-d6c0-9b13eb2aede9"
      },
      "execution_count": null,
      "outputs": [
        {
          "output_type": "stream",
          "name": "stdout",
          "text": [
            "Requirement already satisfied: scikit-learn in /usr/local/lib/python3.12/dist-packages (1.6.1)\n",
            "Requirement already satisfied: numpy>=1.19.5 in /usr/local/lib/python3.12/dist-packages (from scikit-learn) (2.0.2)\n",
            "Requirement already satisfied: scipy>=1.6.0 in /usr/local/lib/python3.12/dist-packages (from scikit-learn) (1.16.2)\n",
            "Requirement already satisfied: joblib>=1.2.0 in /usr/local/lib/python3.12/dist-packages (from scikit-learn) (1.5.2)\n",
            "Requirement already satisfied: threadpoolctl>=3.1.0 in /usr/local/lib/python3.12/dist-packages (from scikit-learn) (3.6.0)\n"
          ]
        }
      ]
    },
    {
      "cell_type": "code",
      "source": [
        "    pip install tensorflow"
      ],
      "metadata": {
        "colab": {
          "base_uri": "https://localhost:8080/"
        },
        "id": "4uTUazhsne8Y",
        "outputId": "6e5e6ad7-7f49-4fdc-ef4d-4bcbbfced530"
      },
      "execution_count": null,
      "outputs": [
        {
          "output_type": "stream",
          "name": "stdout",
          "text": [
            "Requirement already satisfied: tensorflow in /usr/local/lib/python3.12/dist-packages (2.19.0)\n",
            "Requirement already satisfied: absl-py>=1.0.0 in /usr/local/lib/python3.12/dist-packages (from tensorflow) (1.4.0)\n",
            "Requirement already satisfied: astunparse>=1.6.0 in /usr/local/lib/python3.12/dist-packages (from tensorflow) (1.6.3)\n",
            "Requirement already satisfied: flatbuffers>=24.3.25 in /usr/local/lib/python3.12/dist-packages (from tensorflow) (25.2.10)\n",
            "Requirement already satisfied: gast!=0.5.0,!=0.5.1,!=0.5.2,>=0.2.1 in /usr/local/lib/python3.12/dist-packages (from tensorflow) (0.6.0)\n",
            "Requirement already satisfied: google-pasta>=0.1.1 in /usr/local/lib/python3.12/dist-packages (from tensorflow) (0.2.0)\n",
            "Requirement already satisfied: libclang>=13.0.0 in /usr/local/lib/python3.12/dist-packages (from tensorflow) (18.1.1)\n",
            "Requirement already satisfied: opt-einsum>=2.3.2 in /usr/local/lib/python3.12/dist-packages (from tensorflow) (3.4.0)\n",
            "Requirement already satisfied: packaging in /usr/local/lib/python3.12/dist-packages (from tensorflow) (25.0)\n",
            "Requirement already satisfied: protobuf!=4.21.0,!=4.21.1,!=4.21.2,!=4.21.3,!=4.21.4,!=4.21.5,<6.0.0dev,>=3.20.3 in /usr/local/lib/python3.12/dist-packages (from tensorflow) (5.29.5)\n",
            "Requirement already satisfied: requests<3,>=2.21.0 in /usr/local/lib/python3.12/dist-packages (from tensorflow) (2.32.4)\n",
            "Requirement already satisfied: setuptools in /usr/local/lib/python3.12/dist-packages (from tensorflow) (75.2.0)\n",
            "Requirement already satisfied: six>=1.12.0 in /usr/local/lib/python3.12/dist-packages (from tensorflow) (1.17.0)\n",
            "Requirement already satisfied: termcolor>=1.1.0 in /usr/local/lib/python3.12/dist-packages (from tensorflow) (3.1.0)\n",
            "Requirement already satisfied: typing-extensions>=3.6.6 in /usr/local/lib/python3.12/dist-packages (from tensorflow) (4.15.0)\n",
            "Requirement already satisfied: wrapt>=1.11.0 in /usr/local/lib/python3.12/dist-packages (from tensorflow) (1.17.3)\n",
            "Requirement already satisfied: grpcio<2.0,>=1.24.3 in /usr/local/lib/python3.12/dist-packages (from tensorflow) (1.75.0)\n",
            "Requirement already satisfied: tensorboard~=2.19.0 in /usr/local/lib/python3.12/dist-packages (from tensorflow) (2.19.0)\n",
            "Requirement already satisfied: keras>=3.5.0 in /usr/local/lib/python3.12/dist-packages (from tensorflow) (3.10.0)\n",
            "Requirement already satisfied: numpy<2.2.0,>=1.26.0 in /usr/local/lib/python3.12/dist-packages (from tensorflow) (2.0.2)\n",
            "Requirement already satisfied: h5py>=3.11.0 in /usr/local/lib/python3.12/dist-packages (from tensorflow) (3.14.0)\n",
            "Requirement already satisfied: ml-dtypes<1.0.0,>=0.5.1 in /usr/local/lib/python3.12/dist-packages (from tensorflow) (0.5.3)\n",
            "Requirement already satisfied: wheel<1.0,>=0.23.0 in /usr/local/lib/python3.12/dist-packages (from astunparse>=1.6.0->tensorflow) (0.45.1)\n",
            "Requirement already satisfied: rich in /usr/local/lib/python3.12/dist-packages (from keras>=3.5.0->tensorflow) (13.9.4)\n",
            "Requirement already satisfied: namex in /usr/local/lib/python3.12/dist-packages (from keras>=3.5.0->tensorflow) (0.1.0)\n",
            "Requirement already satisfied: optree in /usr/local/lib/python3.12/dist-packages (from keras>=3.5.0->tensorflow) (0.17.0)\n",
            "Requirement already satisfied: charset_normalizer<4,>=2 in /usr/local/lib/python3.12/dist-packages (from requests<3,>=2.21.0->tensorflow) (3.4.3)\n",
            "Requirement already satisfied: idna<4,>=2.5 in /usr/local/lib/python3.12/dist-packages (from requests<3,>=2.21.0->tensorflow) (3.10)\n",
            "Requirement already satisfied: urllib3<3,>=1.21.1 in /usr/local/lib/python3.12/dist-packages (from requests<3,>=2.21.0->tensorflow) (2.5.0)\n",
            "Requirement already satisfied: certifi>=2017.4.17 in /usr/local/lib/python3.12/dist-packages (from requests<3,>=2.21.0->tensorflow) (2025.8.3)\n",
            "Requirement already satisfied: markdown>=2.6.8 in /usr/local/lib/python3.12/dist-packages (from tensorboard~=2.19.0->tensorflow) (3.9)\n",
            "Requirement already satisfied: tensorboard-data-server<0.8.0,>=0.7.0 in /usr/local/lib/python3.12/dist-packages (from tensorboard~=2.19.0->tensorflow) (0.7.2)\n",
            "Requirement already satisfied: werkzeug>=1.0.1 in /usr/local/lib/python3.12/dist-packages (from tensorboard~=2.19.0->tensorflow) (3.1.3)\n",
            "Requirement already satisfied: MarkupSafe>=2.1.1 in /usr/local/lib/python3.12/dist-packages (from werkzeug>=1.0.1->tensorboard~=2.19.0->tensorflow) (3.0.2)\n",
            "Requirement already satisfied: markdown-it-py>=2.2.0 in /usr/local/lib/python3.12/dist-packages (from rich->keras>=3.5.0->tensorflow) (4.0.0)\n",
            "Requirement already satisfied: pygments<3.0.0,>=2.13.0 in /usr/local/lib/python3.12/dist-packages (from rich->keras>=3.5.0->tensorflow) (2.19.2)\n",
            "Requirement already satisfied: mdurl~=0.1 in /usr/local/lib/python3.12/dist-packages (from markdown-it-py>=2.2.0->rich->keras>=3.5.0->tensorflow) (0.1.2)\n"
          ]
        }
      ]
    },
    {
      "cell_type": "code",
      "source": [
        "from sklearn.neural_network import BernoulliRBM\n",
        "from sklearn.pipeline import Pipeline\n",
        "from sklearn.linear_model import LogisticRegression\n",
        "import torch\n",
        "import torch.nn as nn\n",
        "import torch.nn.functional as F\n",
        "import torch.optim as optim\n",
        "import torch.utils.data\n",
        "from torch.autograd import Variable"
      ],
      "metadata": {
        "id": "xttHMzeIoH4O"
      },
      "execution_count": null,
      "outputs": []
    },
    {
      "cell_type": "code",
      "source": [
        "#initialize the rbm model\n",
        "#rbm =BernoulliRBM(n_components= 256, learning_rate= 0.001, n_iter= 100, verbose= 1, random_state= 0)"
      ],
      "metadata": {
        "id": "Uf3JniAHoe-x"
      },
      "execution_count": null,
      "outputs": []
    },
    {
      "cell_type": "code",
      "source": [
        "training_portfolio_set   = torch.tensor(train_portfolio.values, dtype=torch.float32).unsqueeze(1)\n",
        "validation_portfolio_set = torch.tensor(val_portfolio.values,  dtype=torch.float32).unsqueeze(1)\n",
        "test_portfolio_set       = torch.tensor(test_portfolio.values,  dtype=torch.float32).unsqueeze(1)"
      ],
      "metadata": {
        "id": "lxpXdnObld60"
      },
      "execution_count": null,
      "outputs": []
    },
    {
      "cell_type": "code",
      "source": [
        "print(training_portfolio_set.shape)"
      ],
      "metadata": {
        "colab": {
          "base_uri": "https://localhost:8080/"
        },
        "id": "4FFtRoXkv8FN",
        "outputId": "a6d7aef6-3928-43a3-9e22-7d39c9da4cd1"
      },
      "execution_count": null,
      "outputs": [
        {
          "output_type": "stream",
          "name": "stdout",
          "text": [
            "torch.Size([4019, 1])\n"
          ]
        }
      ]
    },
    {
      "cell_type": "code",
      "source": [
        "import torch\n",
        "\n",
        "class RBM:\n",
        "    def __init__(self, n_visible, n_hidden):\n",
        "        # W is [n_visible, n_hidden] so v @ W -> [batch, n_hidden]\n",
        "        self.W = torch.randn(n_visible, n_hidden) * 0.1\n",
        "        self.v_bias = torch.zeros(1, n_visible)\n",
        "        self.h_bias = torch.zeros(1, n_hidden)\n",
        "\n",
        "    def sample_h_givenv(self, v):\n",
        "        h_prob = torch.sigmoid(v @ self.W + self.h_bias)      # no transpose\n",
        "        h_sample = torch.bernoulli(h_prob)\n",
        "        return h_prob, h_sample\n",
        "\n",
        "    def sample_v_givenh(self, h):\n",
        "        v_prob = torch.sigmoid(h @ self.W.T + self.v_bias)    # transpose here only\n",
        "        v_sample = torch.bernoulli(v_prob)\n",
        "        return v_prob, v_sample\n",
        "\n",
        "    def train(self, v0, vk, ph0, phk, lr=0.01):\n",
        "        batch = v0.size(0)\n",
        "        # v0.T @ ph0 -> [n_visible, n_hidden] matches self.W\n",
        "        self.W += lr * ((v0.T @ ph0 - vk.T @ phk) / batch)\n",
        "        self.h_bias += lr * (ph0 - phk).sum(0, keepdim=True) / batch\n",
        "        self.v_bias += lr * (v0 - vk).sum(0, keepdim=True) / batch\n",
        "\n",
        "\n",
        "# - usage -\n",
        "v = training_portfolio_set\n",
        "if v.dim() == 1:            # ensure [N, D]\n",
        "    v = v.unsqueeze(1)\n",
        "\n",
        "nv = v.shape[1]\n",
        "nh = 15\n",
        "rbm1 = RBM(nv, nh)\n",
        "\n",
        "ph, h_sample = rbm1.sample_h_givenv(v)\n",
        "nv2 = ph.shape[1]\n",
        "nh2 = 20\n",
        "rbm2 = RBM(nv2, nh2)\n",
        "\n",
        "# training the rbms\n",
        "batch_size = 100\n",
        "epochs = 100\n",
        "rbmtrain1 = RBM(n_visible=v.shape[1], n_hidden=15)\n",
        "\n",
        "for epoch in range(epochs):\n",
        "    for i in range(0, v.size(0), batch_size):\n",
        "        v0 = v[i:i+batch_size]\n",
        "        h0_prob = torch.sigmoid(v0 @ rbmtrain1.W + rbmtrain1.h_bias)\n",
        "\n",
        "        v1_prob = torch.sigmoid(h0_prob @ rbmtrain1.W.T + rbmtrain1.v_bias)\n",
        "        v1 = torch.bernoulli(v1_prob)\n",
        "\n",
        "        h1_prob = torch.sigmoid(v1 @ rbmtrain1.W + rbmtrain1.h_bias)\n",
        "\n",
        "        rbmtrain1.train(v0, v1, h0_prob, h1_prob)\n"
      ],
      "metadata": {
        "id": "p_mlkbq7lxm4"
      },
      "execution_count": null,
      "outputs": []
    }
  ]
}